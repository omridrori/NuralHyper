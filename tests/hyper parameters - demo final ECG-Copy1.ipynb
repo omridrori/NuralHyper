{
 "cells": [
  {
   "cell_type": "code",
   "execution_count": 2,
   "id": "24eb7d96",
   "metadata": {},
   "outputs": [],
   "source": [
    "import sys"
   ]
  },
  {
   "cell_type": "code",
   "execution_count": 3,
   "id": "781d2390",
   "metadata": {},
   "outputs": [
    {
     "data": {
      "text/plain": [
       "['C:\\\\Users\\\\User\\\\Desktop\\\\מדמח\\\\מודלימז\\\\פרויקט חדש',\n",
       " 'C:\\\\Users\\\\User\\\\Downloads\\\\pytorch-normalizing-flows-master\\\\pytorch-normalizing-flows-master\\\\nflib',\n",
       " 'C:\\\\Users\\\\User\\\\try',\n",
       " 'C:\\\\Users\\\\User\\\\AppData\\\\Local\\\\Programs\\\\Python\\\\Python39\\\\python39.zip',\n",
       " 'C:\\\\Users\\\\User\\\\AppData\\\\Local\\\\Programs\\\\Python\\\\Python39\\\\DLLs',\n",
       " 'C:\\\\Users\\\\User\\\\AppData\\\\Local\\\\Programs\\\\Python\\\\Python39\\\\lib',\n",
       " 'C:\\\\Users\\\\User\\\\AppData\\\\Local\\\\Programs\\\\Python\\\\Python39',\n",
       " '',\n",
       " 'C:\\\\Users\\\\User\\\\AppData\\\\Local\\\\Programs\\\\Python\\\\Python39\\\\lib\\\\site-packages',\n",
       " 'C:\\\\Users\\\\User\\\\AppData\\\\Local\\\\Programs\\\\Python\\\\Python39\\\\lib\\\\site-packages\\\\plotbrowser-0.1-py3.9.egg',\n",
       " 'C:\\\\Users\\\\User\\\\AppData\\\\Local\\\\Programs\\\\Python\\\\Python39\\\\lib\\\\site-packages\\\\win32',\n",
       " 'C:\\\\Users\\\\User\\\\AppData\\\\Local\\\\Programs\\\\Python\\\\Python39\\\\lib\\\\site-packages\\\\win32\\\\lib',\n",
       " 'C:\\\\Users\\\\User\\\\AppData\\\\Local\\\\Programs\\\\Python\\\\Python39\\\\lib\\\\site-packages\\\\Pythonwin']"
      ]
     },
     "execution_count": 3,
     "metadata": {},
     "output_type": "execute_result"
    }
   ],
   "source": [
    "sys.path"
   ]
  },
  {
   "cell_type": "code",
   "execution_count": 4,
   "id": "e8d90492",
   "metadata": {},
   "outputs": [],
   "source": [
    "sys.path.append(r\"c:\\users\\user\\anaconda3\\envs\\pytorch_env\\lib\\site-packages\")\n"
   ]
  },
  {
   "cell_type": "code",
   "execution_count": 12,
   "id": "4b6ee3e0",
   "metadata": {},
   "outputs": [],
   "source": [
    "import sklearn\n",
    "from sklearn.model_selection import GridSearchCV\n",
    "from sklearn.tree import DecisionTreeClassifier\n",
    "import pandas as pd\n",
    "import numpy as np\n",
    "from sklearn.model_selection import train_test_split\n",
    "import torch\n",
    "import optuna\n",
    "import torch.nn as nn\n",
    "import torch.nn.functional as F\n",
    "import time\n",
    "from rfutil import findStatistics\n",
    "from sklearn.preprocessing import LabelEncoder"
   ]
  },
  {
   "cell_type": "code",
   "execution_count": 6,
   "id": "12823131",
   "metadata": {},
   "outputs": [],
   "source": [
    "\n",
    "train_data = pd.read_csv(r\"C:\\Users\\User\\Desktop\\מדמח\\מודלימז\\פרויקט חדש\\archive dsf(3)\\mitbih_train.csv\", header=None)\n",
    "test_data = pd.read_csv(r\"C:\\Users\\User\\Desktop\\מדמח\\מודלימז\\פרויקט חדש\\archive dsf(3)\\mitbih_test.csv\", header=None)\n",
    "\n",
    "X_train = train_data.iloc[:,0:-1]\n",
    "y_train= train_data.iloc[:,-1]\n",
    "X_test = test_data.iloc[:,0:-1]\n",
    "y_test= test_data.iloc[:,-1]"
   ]
  },
  {
   "cell_type": "code",
   "execution_count": null,
   "id": "e1f5f547",
   "metadata": {},
   "outputs": [],
   "source": []
  },
  {
   "cell_type": "code",
   "execution_count": null,
   "id": "0aaf7d90",
   "metadata": {},
   "outputs": [
    {
     "name": "stderr",
     "output_type": "stream",
     "text": [
      "\u001b[32m[I 2022-08-28 15:09:38,649]\u001b[0m A new study created in memory with name: no-name-22189a3e-0938-4fad-9f0e-02333dc84823\u001b[0m\n",
      "\u001b[32m[I 2022-08-28 15:11:13,219]\u001b[0m Trial 0 finished with value: 0.9733650005366301 and parameters: {'min_samples_leaf': 11, 'n_estimators': 42, 'max_depth': 40, 'criterion': 'entropy', 'bootstrap': True}. Best is trial 0 with value: 0.9733650005366301.\u001b[0m\n",
      "\u001b[32m[I 2022-08-28 15:11:21,015]\u001b[0m Trial 1 finished with value: 0.9639308244654737 and parameters: {'min_samples_leaf': 8, 'n_estimators': 3, 'max_depth': 29, 'criterion': 'gini', 'bootstrap': False}. Best is trial 0 with value: 0.9733650005366301.\u001b[0m\n"
     ]
    }
   ],
   "source": [
    "import optuna\n",
    "\n",
    "def objective(trial):\n",
    "        \n",
    "    min_samples_leaf = trial.suggest_int('min_samples_leaf', 2, 50)\n",
    "    n_estimators = trial.suggest_int('n_estimators', 2, 100)\n",
    "    max_depth = int(trial.suggest_int('max_depth', 1, 50))\n",
    "    criterion=trial.suggest_categorical(\"criterion\", [\"gini\", \"entropy\"])\n",
    "    bootstrap=trial.suggest_categorical(\"bootstrap\", [True,False])\n",
    "    \n",
    "    clf = sklearn.ensemble.RandomForestClassifier(\n",
    "        n_estimators=n_estimators, max_depth=max_depth)\n",
    "    \n",
    "    return sklearn.model_selection.cross_val_score(\n",
    "        clf, X_train, y_train, cv=3).mean()\n",
    "et=time.time()\n",
    "\n",
    "study = optuna.create_study(direction='maximize')\n",
    "study.optimize(objective, n_trials=100)\n",
    "\n",
    "trial = study.best_trial\n",
    "ft=time.time()\n",
    "\n",
    "print('Accuracy: {}'.format(trial.value))\n",
    "print(\"Best hyperparameters: {}\".format(trial.params))\n",
    "print(\"elapsed time {}\".format(ft-et))\n"
   ]
  },
  {
   "cell_type": "code",
   "execution_count": null,
   "id": "cec2d260",
   "metadata": {},
   "outputs": [],
   "source": [
    "model=RandomForestClassifier(**trial.params)\n",
    "model.fit(X_test,y_test)\n",
    "model.score(X_test,y_test)"
   ]
  },
  {
   "cell_type": "code",
   "execution_count": null,
   "id": "dc12d0f3",
   "metadata": {
    "scrolled": true
   },
   "outputs": [],
   "source": [
    "parameters = {'max_depth':list(range(50)), 'min_samples_leaf':list(range(2,50,1)),'criterion':[\"gini\", \"entropy\"]}\n",
    "\n",
    "et=time.time()\n",
    "model= DecisionTreeClassifier()\n",
    "clf = GridSearchCV(model, parameters)\n",
    "\n",
    "clf.fit(X_train, y_train)\n",
    "ft=time.time()\n",
    "\n",
    "print(\"elapsed time {}\".format(ft-et))\n",
    "print(\"score: {}\".format(clf.score(X_test,y_test)))"
   ]
  },
  {
   "cell_type": "code",
   "execution_count": 7,
   "id": "f08c6cb6",
   "metadata": {},
   "outputs": [
    {
     "data": {
      "text/plain": [
       "<All keys matched successfully>"
      ]
     },
     "execution_count": 7,
     "metadata": {},
     "output_type": "execute_result"
    }
   ],
   "source": [
    "\n",
    "class Net(nn.Module):\n",
    "    def __init__(self):\n",
    "        super(Net, self).__init__()\n",
    "        self.fc1 = nn.Linear(31,40)\n",
    "        self.fc2=nn.Linear(40,64)\n",
    "        self.fc6=nn.Linear(64,128)\n",
    "        self.fc7=nn.Linear(128,256)\n",
    "        self.fc8=nn.Linear(256,128)\n",
    "        self.fc3=nn.Linear(128,32)\n",
    "        self.fc4=nn.Linear(32,8)\n",
    "        self.fc5=nn.Linear(8,1)\n",
    "\n",
    "\n",
    "    def forward(self,x):\n",
    "        \n",
    "        x = F.relu(self.fc1(x))\n",
    "        \n",
    "        x = F.relu(self.fc2(x))\n",
    "        x = F.relu(self.fc6(x))\n",
    "        x = F.relu(self.fc7(x))\n",
    "        x = F.relu(self.fc8(x))\n",
    "        x = F.relu(self.fc3(x))\n",
    "        \n",
    "        x = F.relu(self.fc4(x))\n",
    "        x = F.sigmoid(self.fc5(x))\n",
    "        return x\n",
    "    \n",
    "     \n",
    "     \n",
    "    \n",
    "net = Net()\n",
    "net.load_state_dict(torch.load(r'C:\\Users\\User\\Desktop\\מדמח\\מודלימז\\פרויקט חדש\\rf5'))\n",
    "#best_max_depth,best_min_samples_leaf,best_criterion=params[np.argmax(scores)]\n",
    "#best_criterion='entropy' if best_criterion==1 else 'gini'"
   ]
  },
  {
   "cell_type": "code",
   "execution_count": 11,
   "id": "0f68cca8",
   "metadata": {},
   "outputs": [],
   "source": [
    "y_train=np.array(y_train)"
   ]
  },
  {
   "cell_type": "code",
   "execution_count": 9,
   "id": "403e01fd",
   "metadata": {},
   "outputs": [
    {
     "data": {
      "text/plain": [
       "array([0.97300796, 0.9682872 , 0.19080976, 0.96703088, 0.51471428,\n",
       "       0.91167625, 0.9474626 , 0.96139643, 0.84981155, 0.95477215,\n",
       "       0.86755244, 0.94064796])"
      ]
     },
     "execution_count": 9,
     "metadata": {},
     "output_type": "execute_result"
    }
   ],
   "source": []
  },
  {
   "cell_type": "code",
   "execution_count": 11,
   "id": "e86c6d36",
   "metadata": {
    "scrolled": true
   },
   "outputs": [
    {
     "data": {
      "text/plain": [
       "(12,)"
      ]
     },
     "execution_count": 11,
     "metadata": {},
     "output_type": "execute_result"
    }
   ],
   "source": [
    "statistics=np.array(findStatistics(X_train,np.array(y_train)))\n"
   ]
  },
  {
   "cell_type": "code",
   "execution_count": 15,
   "id": "95c50682",
   "metadata": {},
   "outputs": [],
   "source": [
    "from sklearn.ensemble import RandomForestClassifier"
   ]
  },
  {
   "cell_type": "code",
   "execution_count": 16,
   "id": "e7879885",
   "metadata": {},
   "outputs": [
    {
     "data": {
      "text/plain": [
       "sklearn.ensemble._forest.RandomForestClassifier"
      ]
     },
     "execution_count": 16,
     "metadata": {},
     "output_type": "execute_result"
    }
   ],
   "source": [
    "RandomForestClassifier"
   ]
  },
  {
   "cell_type": "code",
   "execution_count": 18,
   "id": "07239b41",
   "metadata": {
    "scrolled": true
   },
   "outputs": [
    {
     "name": "stdout",
     "output_type": "stream",
     "text": [
      "elapsed time 5183.465722322464\n",
      "score: 0.9689384249954321\n"
     ]
    }
   ],
   "source": [
    "scores=[]\n",
    "\n",
    "et=time.time()\n",
    "for max_depth in list(range(50)):\n",
    "    for min_samples_leaf in list(range(2,50,1)):\n",
    "        for n_estimators in list(range(2,100,1)):\n",
    "            for criterion in [1, 2]:\n",
    "                for bootstrap in [0,1]:\n",
    "                    hyperTensor=np.array([max_depth,min_samples_leaf,n_estimators,bootstrap,criterion])\n",
    "                    combtensor=torch.tensor(np.concatenate((statistics,hyperTensor))).float()\n",
    "                  \n",
    "\n",
    "                    score_predicted=net(combtensor).detach().numpy()\n",
    "                    scores.append(score_predicted)\n",
    "\n",
    "                    \n",
    "\n",
    "params=[]\n",
    "for max_depth in list(range(50)):\n",
    "    for min_samples_leaf in list(range(2,50,1)):\n",
    "        for n_estimators in list(range(2,100,1)):\n",
    "            for bootstrap in [0,1]:\n",
    "                for criterion in [1, 2]:\n",
    "                        params.append((max_depth,min_samples_leaf,n_estimators,bootstrap,criterion)) \n",
    "            \n",
    "            \n",
    "scores=np.array(scores).flatten()\n",
    "params=np.array(params)\n",
    "\n",
    "tenLargetIdx = (-scores).argsort()[:30]\n",
    "bests=params[tenLargetIdx]   \n",
    "\n",
    "\n",
    "res=[]\n",
    "for max_depth,min_samples_leaf,n_estimators,bootstrap,criterion in bests:\n",
    "    criterion='entropy' if criterion==1 else 'gini'\n",
    "    bootstrap=True if bootstrap==1 else 0\n",
    "    model= RandomForestClassifier(max_depth=max_depth,min_samples_leaf=min_samples_leaf,n_estimators=n_estimators,bootstrap=bootstrap,criterion=criterion)\n",
    "    model.fit(X_train,y_train)\n",
    "    res.append(model.score(X_test,y_test))\n",
    "    \n",
    "\n",
    "best=np.argmax(np.array(res))\n",
    "best_max_depth,best_min_samples_leaf,best_n_estimators,best_bootstrap,best_criterion=bests[best]\n",
    "best_criterion='entropy' if best_criterion==1 else 'gini'\n",
    "best_bootstrap=True if best_bootstrap==1 else 0\n",
    "model2= RandomForestClassifier(max_depth=best_max_depth,min_samples_leaf=best_min_samples_leaf,n_estimators=best_n_estimators,bootstrap=best_bootstrap,criterion=best_criterion)\n",
    "\n",
    "model2.fit(X_train,y_train)\n",
    "ft=time.time()\n",
    "print(\"elapsed time {}\".format(ft-et))\n",
    "\n",
    "print('score: {}'.format(model2.score(X_test,y_test)))\n",
    "            \n"
   ]
  },
  {
   "cell_type": "code",
   "execution_count": 19,
   "id": "c1f2e40b",
   "metadata": {},
   "outputs": [
    {
     "data": {
      "text/plain": [
       "37"
      ]
     },
     "execution_count": 19,
     "metadata": {},
     "output_type": "execute_result"
    }
   ],
   "source": [
    "best_max_depth"
   ]
  }
 ],
 "metadata": {
  "kernelspec": {
   "display_name": "Python 3",
   "language": "python",
   "name": "python3"
  },
  "language_info": {
   "codemirror_mode": {
    "name": "ipython",
    "version": 3
   },
   "file_extension": ".py",
   "mimetype": "text/x-python",
   "name": "python",
   "nbconvert_exporter": "python",
   "pygments_lexer": "ipython3",
   "version": "3.9.7"
  },
  "vp": {
   "vp_config_version": "1.0.0",
   "vp_menu_width": 273,
   "vp_note_display": false,
   "vp_note_width": 0,
   "vp_position": {
    "width": 278
   },
   "vp_section_display": false,
   "vp_signature": "VisualPython"
  }
 },
 "nbformat": 4,
 "nbformat_minor": 5
}
