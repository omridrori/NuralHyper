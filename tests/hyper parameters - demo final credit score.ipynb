{
 "cells": [
  {
   "cell_type": "code",
   "execution_count": 1,
   "id": "24eb7d96",
   "metadata": {},
   "outputs": [],
   "source": [
    "import sys"
   ]
  },
  {
   "cell_type": "code",
   "execution_count": 2,
   "id": "781d2390",
   "metadata": {},
   "outputs": [
    {
     "data": {
      "text/plain": [
       "['C:\\\\Users\\\\User\\\\Desktop\\\\מדמח\\\\מודלימז\\\\פרויקט חדש',\n",
       " 'C:\\\\Users\\\\User\\\\Downloads\\\\pytorch-normalizing-flows-master\\\\pytorch-normalizing-flows-master\\\\nflib',\n",
       " 'C:\\\\Users\\\\User\\\\try',\n",
       " 'C:\\\\Users\\\\User\\\\AppData\\\\Local\\\\Programs\\\\Python\\\\Python39\\\\python39.zip',\n",
       " 'C:\\\\Users\\\\User\\\\AppData\\\\Local\\\\Programs\\\\Python\\\\Python39\\\\DLLs',\n",
       " 'C:\\\\Users\\\\User\\\\AppData\\\\Local\\\\Programs\\\\Python\\\\Python39\\\\lib',\n",
       " 'C:\\\\Users\\\\User\\\\AppData\\\\Local\\\\Programs\\\\Python\\\\Python39',\n",
       " '',\n",
       " 'C:\\\\Users\\\\User\\\\AppData\\\\Local\\\\Programs\\\\Python\\\\Python39\\\\lib\\\\site-packages',\n",
       " 'C:\\\\Users\\\\User\\\\AppData\\\\Local\\\\Programs\\\\Python\\\\Python39\\\\lib\\\\site-packages\\\\plotbrowser-0.1-py3.9.egg',\n",
       " 'C:\\\\Users\\\\User\\\\AppData\\\\Local\\\\Programs\\\\Python\\\\Python39\\\\lib\\\\site-packages\\\\win32',\n",
       " 'C:\\\\Users\\\\User\\\\AppData\\\\Local\\\\Programs\\\\Python\\\\Python39\\\\lib\\\\site-packages\\\\win32\\\\lib',\n",
       " 'C:\\\\Users\\\\User\\\\AppData\\\\Local\\\\Programs\\\\Python\\\\Python39\\\\lib\\\\site-packages\\\\Pythonwin']"
      ]
     },
     "execution_count": 2,
     "metadata": {},
     "output_type": "execute_result"
    }
   ],
   "source": [
    "sys.path"
   ]
  },
  {
   "cell_type": "code",
   "execution_count": 3,
   "id": "e8d90492",
   "metadata": {},
   "outputs": [],
   "source": [
    "sys.path.append(r\"c:\\users\\user\\anaconda3\\envs\\pytorch_env\\lib\\site-packages\")\n"
   ]
  },
  {
   "cell_type": "code",
   "execution_count": 4,
   "id": "4b6ee3e0",
   "metadata": {},
   "outputs": [],
   "source": [
    "import sklearn\n",
    "from sklearn.model_selection import GridSearchCV\n",
    "from sklearn.tree import DecisionTreeClassifier\n",
    "import pandas as pd\n",
    "import numpy as np\n",
    "from sklearn.model_selection import train_test_split\n",
    "import torch\n",
    "\n",
    "import torch.nn as nn\n",
    "import torch.nn.functional as F\n",
    "import time\n",
    "from util import findStatistics\n",
    "from sklearn.preprocessing import LabelEncoder"
   ]
  },
  {
   "cell_type": "code",
   "execution_count": 8,
   "id": "12823131",
   "metadata": {},
   "outputs": [],
   "source": [
    "TRAIN_DATA=pd.read_csv(r\"C:\\Users\\User\\Desktop\\מדמח\\מודלימז\\פרויקט חדש\\CREDIT SCORE\\train.csv\")\n",
    "\n",
    "TRAIN_DATA.drop(['ID', 'Customer_ID', 'Name', 'SSN', 'Type_of_Loan'], inplace=True, axis=1)\n",
    "TRAIN_DATA.dropna(inplace=True)\n",
    "def get_num_months(x: str) -> str:\n",
    "    split_data = x.split(\" \")\n",
    "    return str(int(split_data[0]) * 12 + int(split_data[3]))\n",
    "\n",
    "\n",
    "TRAIN_DATA['Credit_History_Age'] = TRAIN_DATA['Credit_History_Age'].map(get_num_months)\n",
    "# Go through data and see what iregularities\n",
    "TRAIN_DATA.replace('_', np.NaN, inplace=True)\n",
    "\n",
    "TRAIN_DATA.replace('', np.NaN, inplace=True)\n",
    "\n",
    "TRAIN_DATA.replace('_______', np.NaN, inplace=True)\n",
    "TRAIN_DATA.dropna(inplace=True)\n",
    "import re\n",
    "\n",
    "# Go through [\"Age\", \"Annual_Income\", \"Num_of_Loan\", \"Num_of_Delayed_Payment\",\"Changed_Credit_Limit\",\n",
    "# \"Num_Credit_Inquiries\" \"Outstanding_Debt\",\"Amount_invested_monthly\", \"Monthly_Balance\"] and strip the data and let\n",
    "# only numeric\n",
    "\n",
    "TRAIN_DATA['Age'] = TRAIN_DATA['Age'].map(lambda x: re.sub('\\D', '', x))\n",
    "TRAIN_DATA['Annual_Income'] = TRAIN_DATA['Annual_Income'].map(lambda x: re.sub('\\D', '', x))\n",
    "TRAIN_DATA['Num_of_Loan'] = TRAIN_DATA['Num_of_Loan'].map(lambda x: re.sub('\\D', '', x))\n",
    "TRAIN_DATA['Num_of_Delayed_Payment'] = TRAIN_DATA['Changed_Credit_Limit'].map(lambda x: re.sub('\\D', '', x))\n",
    "TRAIN_DATA['Changed_Credit_Limit'] = TRAIN_DATA['Changed_Credit_Limit'].map(lambda x: re.sub('\\D', '', x))\n",
    "TRAIN_DATA['Num_Credit_Inquiries'] = TRAIN_DATA['Outstanding_Debt'].map(lambda x: re.sub('\\D', '', x))\n",
    "TRAIN_DATA['Amount_invested_monthly'] = TRAIN_DATA['Amount_invested_monthly'].map(lambda x: re.sub('\\D', '', x))\n",
    "TRAIN_DATA['Monthly_Balance'] = TRAIN_DATA['Monthly_Balance'].map(lambda x: re.sub('\\D', '', str(x)))\n",
    "TRAIN_DATA['Outstanding_Debt'] = TRAIN_DATA['Outstanding_Debt'].map(lambda x: re.sub('\\D', '', x))\n",
    "# Convert numeric data to its appropriate type\n",
    "TRAIN_DATA = TRAIN_DATA.astype({\"Age\": float, \"Annual_Income\": float, \"Num_of_Loan\": float, \"Num_of_Delayed_Payment\":\n",
    "    float,\n",
    "                                \"Changed_Credit_Limit\": float, \"Num_Credit_Inquiries\": float, \"Outstanding_Debt\": float,\n",
    "                                \"Amount_invested_monthly\": float,\n",
    "                                \"Monthly_Balance\": float})\n",
    "TRAIN_DATA.drop(TRAIN_DATA[(TRAIN_DATA['Age'] > 80) | (TRAIN_DATA['Age'] < 18)].index, inplace=True)\n",
    "# Drop some Monthly Inland outliers\n",
    "TRAIN_DATA.drop(TRAIN_DATA[(TRAIN_DATA['Monthly_Inhand_Salary'] > 12500)].index,\n",
    "                inplace=True)\n",
    "from sklearn.preprocessing import OrdinalEncoder\n",
    "from sklearn.compose import make_column_transformer\n",
    "\n",
    "# Will just go with the default Ordinal Encoder\n",
    "\n",
    "transformer_TRAIN = make_column_transformer(\n",
    "    (OrdinalEncoder(), ['Month', 'Occupation', 'Credit_Mix', 'Payment_of_Min_Amount', 'Payment_Behaviour']),\n",
    "    remainder='passthrough')\n",
    "transformed_TRAIN_data = transformer_TRAIN.fit_transform(TRAIN_DATA)\n",
    "transformed_TRAIN_data = pd.DataFrame(transformed_TRAIN_data, columns=transformer_TRAIN.feature_names_in_)\n",
    "X = transformed_TRAIN_data.iloc[:, :22]\n",
    "y = transformed_TRAIN_data.iloc[:, 22]\n",
    "from sklearn.model_selection import train_test_split\n",
    "\n",
    "X_train, X_test, y_train, y_test = train_test_split(X, y, test_size=0.20, random_state=0)\n",
    "from sklearn.preprocessing import StandardScaler\n",
    "\n",
    "sc_X = StandardScaler()\n",
    "X_train = sc_X.fit_transform(X_train)\n",
    "X_test = sc_X.fit_transform(X_test)"
   ]
  },
  {
   "cell_type": "code",
   "execution_count": null,
   "id": "0aaf7d90",
   "metadata": {},
   "outputs": [],
   "source": [
    "\n"
   ]
  },
  {
   "cell_type": "code",
   "execution_count": 9,
   "id": "dc12d0f3",
   "metadata": {
    "scrolled": true
   },
   "outputs": [
    {
     "name": "stdout",
     "output_type": "stream",
     "text": [
      "elapsed time 8642.601002931595\n",
      "score: 0.6628888631895455\n"
     ]
    }
   ],
   "source": [
    "parameters = {'max_depth':list(range(50)), 'min_samples_leaf':list(range(2,50,1)),'criterion':[\"gini\", \"entropy\"]}\n",
    "\n",
    "et=time.time()\n",
    "model= DecisionTreeClassifier()\n",
    "clf = GridSearchCV(model, parameters)\n",
    "\n",
    "clf.fit(X_train, y_train)\n",
    "ft=time.time()\n",
    "\n",
    "print(\"elapsed time {}\".format(ft-et))\n",
    "print(\"score: {}\".format(clf.score(X_test,y_test)))"
   ]
  },
  {
   "cell_type": "code",
   "execution_count": 10,
   "id": "f08c6cb6",
   "metadata": {},
   "outputs": [
    {
     "data": {
      "text/plain": [
       "<All keys matched successfully>"
      ]
     },
     "execution_count": 10,
     "metadata": {},
     "output_type": "execute_result"
    }
   ],
   "source": [
    "class Net(nn.Module):\n",
    "    def __init__(self):\n",
    "        super(Net, self).__init__()\n",
    "        self.fc1 = nn.Linear(15,32)\n",
    "        self.fc2=nn.Linear(32,64)\n",
    "        self.fc6=nn.Linear(64,128)\n",
    "        self.fc7=nn.Linear(128,256)\n",
    "        self.fc8=nn.Linear(256,128)\n",
    "        self.fc3=nn.Linear(128,32)\n",
    "        self.fc4=nn.Linear(32,8)\n",
    "        self.fc5=nn.Linear(8,1)\n",
    "\n",
    "\n",
    "    def forward(self,x):\n",
    "        \n",
    "        x = F.relu(self.fc1(x))\n",
    "        \n",
    "        x = F.relu(self.fc2(x))\n",
    "        x = F.relu(self.fc6(x))\n",
    "        x = F.relu(self.fc7(x))\n",
    "        x = F.relu(self.fc8(x))\n",
    "        x = F.relu(self.fc3(x))\n",
    "        \n",
    "        x = F.relu(self.fc4(x))\n",
    "        x = F.sigmoid(self.fc5(x))\n",
    "        return x\n",
    "    \n",
    "     \n",
    "    \n",
    "    \n",
    "net = Net()\n",
    "net.load_state_dict(torch.load(r'C:\\Users\\User\\Desktop\\מדמח\\מודלימז\\פרויקט חדש\\batches117'))\n",
    "#best_max_depth,best_min_samples_leaf,best_criterion=params[np.argmax(scores)]\n",
    "#best_criterion='entropy' if best_criterion==1 else 'gini'"
   ]
  },
  {
   "cell_type": "code",
   "execution_count": 11,
   "id": "0f68cca8",
   "metadata": {},
   "outputs": [],
   "source": [
    "y_train=np.array(y_train)"
   ]
  },
  {
   "cell_type": "code",
   "execution_count": 12,
   "id": "07239b41",
   "metadata": {
    "scrolled": true
   },
   "outputs": [
    {
     "name": "stdout",
     "output_type": "stream",
     "text": [
      "elapsed time 39.79829716682434\n",
      "score: 0.6678616861339193\n"
     ]
    }
   ],
   "source": [
    "scores=[]\n",
    "\n",
    "et=time.time()\n",
    "statistics=np.array(findStatistics(X_train,y_train))\n",
    "for max_depth in list(range(50)):\n",
    "    for min_samples_leaf in list(range(2,50,1)):\n",
    "        for criterion in [1, 2]:\n",
    "            hyperTensor=np.array([max_depth,min_samples_leaf,criterion])\n",
    "            combtensor=torch.tensor(np.concatenate((statistics,hyperTensor))).float()\n",
    "            \n",
    "            score_predicted=net(combtensor).detach().numpy()\n",
    "            scores.append(score_predicted)\n",
    "params=[]\n",
    "for max_depth in list(range(50)):\n",
    "    for min_samples_leaf in list(range(2,50,1)):\n",
    "        for criterion in [1, 2]:\n",
    "            params.append((max_depth,min_samples_leaf,criterion)) \n",
    "            \n",
    "scores=np.array(scores).flatten()\n",
    "params=np.array(params)\n",
    "\n",
    "tenLargetIdx = (-scores).argsort()[:10]\n",
    "bests=params[tenLargetIdx]   \n",
    "\n",
    "\n",
    "res=[]\n",
    "for max_depth,min_samples_leaf,criterion in bests:\n",
    "    criterion='entropy' if criterion==1 else 'gini'\n",
    "    model= DecisionTreeClassifier(max_depth=max_depth,min_samples_leaf=min_samples_leaf,criterion=criterion)\n",
    "    model.fit(X_train,y_train)\n",
    "    res.append(model.score(X_test,y_test))\n",
    "    \n",
    "\n",
    "best=np.argmax(np.array(res))\n",
    "best_max_depth,best_min_samples_leaf,best_criterion=bests[best]\n",
    "best_criterion='entropy' if best_criterion==1 else 'gini'\n",
    "model2= DecisionTreeClassifier(max_depth=best_max_depth,min_samples_leaf=best_min_samples_leaf,criterion=best_criterion)\n",
    "\n",
    "model2.fit(X_train,y_train)\n",
    "ft=time.time()\n",
    "print(\"elapsed time {}\".format(ft-et))\n",
    "\n",
    "print('score: {}'.format(model2.score(X_test,y_test)))\n",
    "            \n"
   ]
  },
  {
   "cell_type": "code",
   "execution_count": 17,
   "id": "c1f2e40b",
   "metadata": {},
   "outputs": [
    {
     "data": {
      "text/plain": [
       "8"
      ]
     },
     "execution_count": 17,
     "metadata": {},
     "output_type": "execute_result"
    }
   ],
   "source": [
    "best_max_depth"
   ]
  }
 ],
 "metadata": {
  "kernelspec": {
   "display_name": "Python 3",
   "language": "python",
   "name": "python3"
  },
  "language_info": {
   "codemirror_mode": {
    "name": "ipython",
    "version": 3
   },
   "file_extension": ".py",
   "mimetype": "text/x-python",
   "name": "python",
   "nbconvert_exporter": "python",
   "pygments_lexer": "ipython3",
   "version": "3.9.7"
  },
  "vp": {
   "vp_config_version": "1.0.0",
   "vp_menu_width": 273,
   "vp_note_display": false,
   "vp_note_width": 0,
   "vp_position": {
    "width": 278
   },
   "vp_section_display": false,
   "vp_signature": "VisualPython"
  }
 },
 "nbformat": 4,
 "nbformat_minor": 5
}
