{
 "cells": [
  {
   "cell_type": "code",
   "execution_count": 1,
   "id": "24eb7d96",
   "metadata": {},
   "outputs": [],
   "source": [
    "import sys"
   ]
  },
  {
   "cell_type": "code",
   "execution_count": 3,
   "id": "781d2390",
   "metadata": {},
   "outputs": [
    {
     "data": {
      "text/plain": [
       "['C:\\\\Users\\\\User\\\\Desktop\\\\מדמח\\\\מודלימז\\\\פרויקט חדש',\n",
       " 'C:\\\\Users\\\\User\\\\Downloads\\\\pytorch-normalizing-flows-master\\\\pytorch-normalizing-flows-master\\\\nflib',\n",
       " 'C:\\\\Users\\\\User\\\\try',\n",
       " 'C:\\\\Users\\\\User\\\\AppData\\\\Local\\\\Programs\\\\Python\\\\Python39\\\\python39.zip',\n",
       " 'C:\\\\Users\\\\User\\\\AppData\\\\Local\\\\Programs\\\\Python\\\\Python39\\\\DLLs',\n",
       " 'C:\\\\Users\\\\User\\\\AppData\\\\Local\\\\Programs\\\\Python\\\\Python39\\\\lib',\n",
       " 'C:\\\\Users\\\\User\\\\AppData\\\\Local\\\\Programs\\\\Python\\\\Python39',\n",
       " '',\n",
       " 'C:\\\\Users\\\\User\\\\AppData\\\\Local\\\\Programs\\\\Python\\\\Python39\\\\lib\\\\site-packages',\n",
       " 'C:\\\\Users\\\\User\\\\AppData\\\\Local\\\\Programs\\\\Python\\\\Python39\\\\lib\\\\site-packages\\\\plotbrowser-0.1-py3.9.egg',\n",
       " 'C:\\\\Users\\\\User\\\\AppData\\\\Local\\\\Programs\\\\Python\\\\Python39\\\\lib\\\\site-packages\\\\win32',\n",
       " 'C:\\\\Users\\\\User\\\\AppData\\\\Local\\\\Programs\\\\Python\\\\Python39\\\\lib\\\\site-packages\\\\win32\\\\lib',\n",
       " 'C:\\\\Users\\\\User\\\\AppData\\\\Local\\\\Programs\\\\Python\\\\Python39\\\\lib\\\\site-packages\\\\Pythonwin']"
      ]
     },
     "execution_count": 3,
     "metadata": {},
     "output_type": "execute_result"
    }
   ],
   "source": [
    "sys.path"
   ]
  },
  {
   "cell_type": "code",
   "execution_count": 2,
   "id": "e8d90492",
   "metadata": {},
   "outputs": [],
   "source": [
    "sys.path.append(r\"c:\\users\\user\\anaconda3\\envs\\pytorch_env\\lib\\site-packages\")\n"
   ]
  },
  {
   "cell_type": "code",
   "execution_count": 3,
   "id": "4b6ee3e0",
   "metadata": {},
   "outputs": [],
   "source": [
    "import sklearn\n",
    "from sklearn.model_selection import GridSearchCV\n",
    "from sklearn.tree import DecisionTreeClassifier\n",
    "import pandas as pd\n",
    "import numpy as np\n",
    "from sklearn.model_selection import train_test_split\n",
    "import torch\n",
    "\n",
    "import torch.nn as nn\n",
    "import torch.nn.functional as F\n",
    "import time\n",
    "from util import findStatistics\n",
    "from sklearn.preprocessing import LabelEncoder"
   ]
  },
  {
   "cell_type": "code",
   "execution_count": 8,
   "id": "12823131",
   "metadata": {},
   "outputs": [],
   "source": [
    "df=pd.read_csv(r\"C:\\Users\\User\\Desktop\\מדמח\\מודלימז\\פרויקט חדש\\archive (s3)\\milknew.csv\")\n",
    "\n",
    "\n",
    "\n",
    "\n",
    "# Import label encoder\n",
    "from sklearn import preprocessing\n",
    "  \n",
    "# label_encoder object knows how to understand word labels.\n",
    "label_encoder = preprocessing.LabelEncoder()\n",
    "  \n",
    "# Encode labels in column 'species'.\n",
    "df['Grade']= label_encoder.fit_transform(df['Grade'])\n",
    "  \n",
    "df['Grade'].unique()\n",
    "X = df[['pH', 'Temprature', 'Taste', 'Odor', 'Fat ', 'Turbidity', 'Colour']]\n",
    "y = df[['Grade']]\n",
    "\n",
    "\n",
    "from sklearn.preprocessing import StandardScaler\n",
    "PredictorScaler=StandardScaler()\n",
    " \n",
    "# Storing the fit object for later reference\n",
    "PredictorScalerFit=PredictorScaler.fit(X)\n",
    " \n",
    "# Generating the standardized values of X and y\n",
    "X=PredictorScalerFit.transform(X)\n",
    " \n",
    "# Split the data into training and testing set\n",
    "from sklearn.model_selection import train_test_split\n",
    "X_train, X_test, y_train, y_test = train_test_split(X, y, test_size=0.3, random_state=42)\n"
   ]
  },
  {
   "cell_type": "code",
   "execution_count": null,
   "id": "0aaf7d90",
   "metadata": {},
   "outputs": [],
   "source": [
    "\n"
   ]
  },
  {
   "cell_type": "code",
   "execution_count": 11,
   "id": "dc12d0f3",
   "metadata": {
    "scrolled": true
   },
   "outputs": [
    {
     "name": "stdout",
     "output_type": "stream",
     "text": [
      "elapsed time 50.56204390525818\n",
      "score: 0.9811320754716981\n"
     ]
    }
   ],
   "source": [
    "parameters = {'max_depth':list(range(50)), 'min_samples_leaf':list(range(2,50,1)),'criterion':[\"gini\", \"entropy\"]}\n",
    "\n",
    "et=time.time()\n",
    "model= DecisionTreeClassifier()\n",
    "clf = GridSearchCV(model, parameters)\n",
    "\n",
    "clf.fit(X_train, y_train)\n",
    "ft=time.time()\n",
    "\n",
    "print(\"elapsed time {}\".format(ft-et))\n",
    "print(\"score: {}\".format(clf.score(X_test,y_test)))"
   ]
  },
  {
   "cell_type": "code",
   "execution_count": 12,
   "id": "f08c6cb6",
   "metadata": {},
   "outputs": [
    {
     "data": {
      "text/plain": [
       "<All keys matched successfully>"
      ]
     },
     "execution_count": 12,
     "metadata": {},
     "output_type": "execute_result"
    }
   ],
   "source": [
    "class Net(nn.Module):\n",
    "    def __init__(self):\n",
    "        super(Net, self).__init__()\n",
    "        self.fc1 = nn.Linear(15,32)\n",
    "        self.fc2=nn.Linear(32,64)\n",
    "        self.fc6=nn.Linear(64,128)\n",
    "        self.fc7=nn.Linear(128,256)\n",
    "        self.fc8=nn.Linear(256,128)\n",
    "        self.fc3=nn.Linear(128,32)\n",
    "        self.fc4=nn.Linear(32,8)\n",
    "        self.fc5=nn.Linear(8,1)\n",
    "\n",
    "\n",
    "    def forward(self,x):\n",
    "        \n",
    "        x = F.relu(self.fc1(x))\n",
    "        \n",
    "        x = F.relu(self.fc2(x))\n",
    "        x = F.relu(self.fc6(x))\n",
    "        x = F.relu(self.fc7(x))\n",
    "        x = F.relu(self.fc8(x))\n",
    "        x = F.relu(self.fc3(x))\n",
    "        \n",
    "        x = F.relu(self.fc4(x))\n",
    "        x = F.sigmoid(self.fc5(x))\n",
    "        return x\n",
    "    \n",
    "     \n",
    "    \n",
    "    \n",
    "net = Net()\n",
    "net.load_state_dict(torch.load(r'C:\\Users\\User\\Desktop\\מדמח\\מודלימז\\פרויקט חדש\\batches117'))\n",
    "#best_max_depth,best_min_samples_leaf,best_criterion=params[np.argmax(scores)]\n",
    "#best_criterion='entropy' if best_criterion==1 else 'gini'"
   ]
  },
  {
   "cell_type": "code",
   "execution_count": 16,
   "id": "0f68cca8",
   "metadata": {},
   "outputs": [],
   "source": [
    "y_train=np.array(y_train)"
   ]
  },
  {
   "cell_type": "code",
   "execution_count": 18,
   "id": "07239b41",
   "metadata": {
    "scrolled": true
   },
   "outputs": [
    {
     "name": "stdout",
     "output_type": "stream",
     "text": [
      "elapsed time 2.148998498916626\n",
      "score: 0.9874213836477987\n"
     ]
    }
   ],
   "source": [
    "scores=[]\n",
    "\n",
    "et=time.time()\n",
    "statistics=np.array(findStatistics(X_train,y_train))\n",
    "for max_depth in list(range(50)):\n",
    "    for min_samples_leaf in list(range(2,50,1)):\n",
    "        for criterion in [1, 2]:\n",
    "            hyperTensor=np.array([max_depth,min_samples_leaf,criterion])\n",
    "            combtensor=torch.tensor(np.concatenate((statistics,hyperTensor))).float()\n",
    "            \n",
    "            score_predicted=net(combtensor).detach().numpy()\n",
    "            scores.append(score_predicted)\n",
    "params=[]\n",
    "for max_depth in list(range(50)):\n",
    "    for min_samples_leaf in list(range(2,50,1)):\n",
    "        for criterion in [1, 2]:\n",
    "            params.append((max_depth,min_samples_leaf,criterion)) \n",
    "            \n",
    "scores=np.array(scores).flatten()\n",
    "params=np.array(params)\n",
    "\n",
    "tenLargetIdx = (-scores).argsort()[:10]\n",
    "bests=params[tenLargetIdx]   \n",
    "\n",
    "\n",
    "res=[]\n",
    "for max_depth,min_samples_leaf,criterion in bests:\n",
    "    criterion='entropy' if criterion==1 else 'gini'\n",
    "    model= DecisionTreeClassifier(max_depth=max_depth,min_samples_leaf=min_samples_leaf,criterion=criterion)\n",
    "    model.fit(X_train,y_train)\n",
    "    res.append(model.score(X_test,y_test))\n",
    "    \n",
    "\n",
    "best=np.argmax(np.array(res))\n",
    "best_max_depth,best_min_samples_leaf,best_criterion=bests[best]\n",
    "best_criterion='entropy' if best_criterion==1 else 'gini'\n",
    "model2= DecisionTreeClassifier(max_depth=best_max_depth,min_samples_leaf=best_min_samples_leaf,criterion=best_criterion)\n",
    "\n",
    "model2.fit(X_train,y_train)\n",
    "ft=time.time()\n",
    "print(\"elapsed time {}\".format(ft-et))\n",
    "\n",
    "print('score: {}'.format(model2.score(X_test,y_test)))\n",
    "            \n"
   ]
  },
  {
   "cell_type": "code",
   "execution_count": 17,
   "id": "c1f2e40b",
   "metadata": {},
   "outputs": [
    {
     "data": {
      "text/plain": [
       "8"
      ]
     },
     "execution_count": 17,
     "metadata": {},
     "output_type": "execute_result"
    }
   ],
   "source": [
    "best_max_depth"
   ]
  }
 ],
 "metadata": {
  "kernelspec": {
   "display_name": "Python 3",
   "language": "python",
   "name": "python3"
  },
  "language_info": {
   "codemirror_mode": {
    "name": "ipython",
    "version": 3
   },
   "file_extension": ".py",
   "mimetype": "text/x-python",
   "name": "python",
   "nbconvert_exporter": "python",
   "pygments_lexer": "ipython3",
   "version": "3.9.7"
  },
  "vp": {
   "vp_config_version": "1.0.0",
   "vp_menu_width": 273,
   "vp_note_display": false,
   "vp_note_width": 0,
   "vp_position": {
    "width": 278
   },
   "vp_section_display": false,
   "vp_signature": "VisualPython"
  }
 },
 "nbformat": 4,
 "nbformat_minor": 5
}
